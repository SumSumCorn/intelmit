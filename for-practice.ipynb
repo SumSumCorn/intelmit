{
 "cells": [
  {
   "cell_type": "markdown",
   "id": "1495fbca",
   "metadata": {},
   "source": [
    "## 문제 1\n",
    "for 문을 이용하여 1부터 100까지의 숫자를 출력하시오."
   ]
  },
  {
   "cell_type": "code",
   "execution_count": null,
   "id": "c2fbe511",
   "metadata": {},
   "outputs": [],
   "source": [
    "# 여기에 코드를 작성하세요."
   ]
  },
  {
   "cell_type": "markdown",
   "id": "b53f2aa7",
   "metadata": {},
   "source": [
    "## 문제 2\n",
    "for 문을 이용하여 1부터 100까지의 홀수를 출력하시오."
   ]
  },
  {
   "cell_type": "code",
   "execution_count": null,
   "id": "c5840527",
   "metadata": {},
   "outputs": [],
   "source": [
    "# 여기에 코드를 작성하세요."
   ]
  },
  {
   "cell_type": "markdown",
   "id": "fff60375",
   "metadata": {},
   "source": [
    "## 문제 3\n",
    "for 문을 이용하여 1부터 100까지의 짝수를 출력하시오."
   ]
  },
  {
   "cell_type": "code",
   "execution_count": null,
   "id": "bcb7b264",
   "metadata": {},
   "outputs": [],
   "source": [
    "# 여기에 코드를 작성하세요."
   ]
  },
  {
   "cell_type": "markdown",
   "id": "3e6d77e6",
   "metadata": {},
   "source": [
    "## 문제 4\n",
    "for 문을 이용하여 1부터 100까지의 숫자 중 5의 배수를 출력하시오."
   ]
  },
  {
   "cell_type": "code",
   "execution_count": null,
   "id": "6aa77041",
   "metadata": {},
   "outputs": [],
   "source": [
    "# 여기에 코드를 작성하세요."
   ]
  },
  {
   "cell_type": "markdown",
   "id": "d70aa970",
   "metadata": {},
   "source": [
    "## 문제 5\n",
    "for 문을 이용하여 1부터 100까지의 숫자 중 7의 배수를 출력하시오."
   ]
  },
  {
   "cell_type": "code",
   "execution_count": null,
   "id": "ffa447ab",
   "metadata": {},
   "outputs": [],
   "source": [
    "# 여기에 코드를 작성하세요."
   ]
  },
  {
   "cell_type": "markdown",
   "id": "f1f52195",
   "metadata": {},
   "source": [
    "## 문제 6\n",
    "for 문을 이용하여 1부터 100까지의 숫자 중 3과 5의 공배수를 출력하시오."
   ]
  },
  {
   "cell_type": "code",
   "execution_count": null,
   "id": "74e5c79b",
   "metadata": {},
   "outputs": [],
   "source": [
    "# 여기에 코드를 작성하세요."
   ]
  },
  {
   "cell_type": "markdown",
   "id": "4574ec5e",
   "metadata": {},
   "source": [
    "## 문제 7\n",
    "for 문을 이용하여 1부터 10까지의 숫자의 제곱을 출력하시오."
   ]
  },
  {
   "cell_type": "code",
   "execution_count": null,
   "id": "3993ec51",
   "metadata": {},
   "outputs": [],
   "source": [
    "# 여기에 코드를 작성하세요."
   ]
  },
  {
   "cell_type": "markdown",
   "id": "571bbdeb",
   "metadata": {},
   "source": [
    "## 문제 8\n",
    "for 문을 이용하여 1부터 100까지의 숫자 중 소수를 출력하시오."
   ]
  },
  {
   "cell_type": "code",
   "execution_count": null,
   "id": "150335c1",
   "metadata": {},
   "outputs": [],
   "source": [
    "# 여기에 코드를 작성하세요."
   ]
  },
  {
   "cell_type": "markdown",
   "id": "53252744",
   "metadata": {},
   "source": [
    "## 문제 9\n",
    "for 문을 이용하여 1부터 100까지의 숫자의 합을 출력하시오."
   ]
  },
  {
   "cell_type": "code",
   "execution_count": null,
   "id": "00d0e199",
   "metadata": {},
   "outputs": [],
   "source": [
    "# 여기에 코드를 작성하세요."
   ]
  },
  {
   "cell_type": "markdown",
   "id": "72b28842",
   "metadata": {},
   "source": [
    "## 문제 10\n",
    "for 문을 이용하여 1부터 10까지의 팩토리얼을 출력하시오."
   ]
  },
  {
   "cell_type": "code",
   "execution_count": null,
   "id": "4d57eaee",
   "metadata": {},
   "outputs": [],
   "source": [
    "# 여기에 코드를 작성하세요."
   ]
  }
 ],
 "metadata": {},
 "nbformat": 4,
 "nbformat_minor": 5
}
