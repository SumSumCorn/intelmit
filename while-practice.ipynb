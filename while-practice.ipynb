{
 "cells": [
  {
   "cell_type": "markdown",
   "id": "fc44b060",
   "metadata": {},
   "source": [
    "## 문제 1\n",
    "while 문을 이용하여 1부터 100까지의 숫자를 출력하시오."
   ]
  },
  {
   "cell_type": "code",
   "execution_count": null,
   "id": "318f5a7d",
   "metadata": {},
   "outputs": [],
   "source": [
    "# 여기에 코드를 작성하세요."
   ]
  },
  {
   "cell_type": "markdown",
   "id": "27ebcd69",
   "metadata": {},
   "source": [
    "## 문제 2\n",
    "while 문을 이용하여 1부터 100까지의 홀수를 출력하시오."
   ]
  },
  {
   "cell_type": "code",
   "execution_count": null,
   "id": "d34170e8",
   "metadata": {},
   "outputs": [],
   "source": [
    "# 여기에 코드를 작성하세요."
   ]
  },
  {
   "cell_type": "markdown",
   "id": "f1620951",
   "metadata": {},
   "source": [
    "## 문제 3\n",
    "while 문을 이용하여 1부터 100까지의 짝수를 출력하시오."
   ]
  },
  {
   "cell_type": "code",
   "execution_count": null,
   "id": "bdfe28cb",
   "metadata": {},
   "outputs": [],
   "source": [
    "# 여기에 코드를 작성하세요."
   ]
  },
  {
   "cell_type": "markdown",
   "id": "c62472df",
   "metadata": {},
   "source": [
    "## 문제 4\n",
    "while 문을 이용하여 1부터 100까지의 숫자 중 5의 배수를 출력하시오."
   ]
  },
  {
   "cell_type": "code",
   "execution_count": null,
   "id": "e066d4b8",
   "metadata": {},
   "outputs": [],
   "source": [
    "# 여기에 코드를 작성하세요."
   ]
  },
  {
   "cell_type": "markdown",
   "id": "976ce63c",
   "metadata": {},
   "source": [
    "## 문제 5\n",
    "while 문을 이용하여 1부터 100까지의 숫자 중 7의 배수를 출력하시오."
   ]
  },
  {
   "cell_type": "code",
   "execution_count": null,
   "id": "e20105ff",
   "metadata": {},
   "outputs": [],
   "source": [
    "# 여기에 코드를 작성하세요."
   ]
  },
  {
   "cell_type": "markdown",
   "id": "245f4a10",
   "metadata": {},
   "source": [
    "## 문제 6\n",
    "while 문을 이용하여 1부터 100까지의 숫자 중 3과 5의 공배수를 출력하시오."
   ]
  },
  {
   "cell_type": "code",
   "execution_count": null,
   "id": "a441228a",
   "metadata": {},
   "outputs": [],
   "source": [
    "# 여기에 코드를 작성하세요."
   ]
  },
  {
   "cell_type": "markdown",
   "id": "44bfb904",
   "metadata": {},
   "source": [
    "## 문제 7\n",
    "while 문을 이용하여 1부터 10까지의 숫자의 제곱을 출력하시오."
   ]
  },
  {
   "cell_type": "code",
   "execution_count": null,
   "id": "23f28e5d",
   "metadata": {},
   "outputs": [],
   "source": [
    "# 여기에 코드를 작성하세요."
   ]
  },
  {
   "cell_type": "markdown",
   "id": "e6e7ca9c",
   "metadata": {},
   "source": [
    "## 문제 8\n",
    "while 문을 이용하여 1부터 100까지의 숫자 중 소수를 출력하시오."
   ]
  },
  {
   "cell_type": "code",
   "execution_count": null,
   "id": "462a91dd",
   "metadata": {},
   "outputs": [],
   "source": [
    "# 여기에 코드를 작성하세요."
   ]
  },
  {
   "cell_type": "markdown",
   "id": "e9dbf0ee",
   "metadata": {},
   "source": [
    "## 문제 9\n",
    "while 문을 이용하여 1부터 100까지의 숫자의 합을 출력하시오."
   ]
  },
  {
   "cell_type": "code",
   "execution_count": null,
   "id": "92185e84",
   "metadata": {},
   "outputs": [],
   "source": [
    "# 여기에 코드를 작성하세요."
   ]
  },
  {
   "cell_type": "markdown",
   "id": "9a3b2ba0",
   "metadata": {},
   "source": [
    "## 문제 10\n",
    "while 문을 이용하여 1부터 10까지의 팩토리얼을 출력하시오."
   ]
  },
  {
   "cell_type": "code",
   "execution_count": null,
   "id": "d48d0794",
   "metadata": {},
   "outputs": [],
   "source": [
    "# 여기에 코드를 작성하세요."
   ]
  }
 ],
 "metadata": {},
 "nbformat": 4,
 "nbformat_minor": 5
}
