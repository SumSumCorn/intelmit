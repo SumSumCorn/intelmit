{
 "cells": [
  {
   "cell_type": "markdown",
   "id": "ccfec6c8",
   "metadata": {},
   "source": [
    "## 문제 1\n",
    "\n",
    "'Hello world' 를 출력하시오.\n",
    "\n",
    "예시)\n",
    "\n",
    "```python\n",
    "print('Hello')\n",
    "```\n"
   ]
  },
  {
   "cell_type": "code",
   "execution_count": null,
   "id": "e7f24f12",
   "metadata": {},
   "outputs": [],
   "source": [
    "# 여기에 코드를 작성하세요."
   ]
  },
  {
   "cell_type": "markdown",
   "id": "2432aa70",
   "metadata": {},
   "source": [
    "## 문제 2\n",
    "\n",
    "'num' 이라는 이름의 변수를 만들고 그 값을 10으로 설정한 후, 이 변수를 출력하시오.\n",
    "\n",
    "예시)\n",
    "\n",
    "```python\n",
    "num = ??\n",
    "print(?)\n",
    "```\n"
   ]
  },
  {
   "cell_type": "code",
   "execution_count": null,
   "id": "658a2d56",
   "metadata": {},
   "outputs": [],
   "source": [
    "# 여기에 코드를 작성하세요."
   ]
  },
  {
   "cell_type": "markdown",
   "id": "3698d122",
   "metadata": {},
   "source": [
    "## 문제 3\n",
    "\n",
    "만약 'num' 변수의 값이 10 이상이면 'ok', 그렇지 않으면 'no'를 출력하는 코드를 작성하시오.\n",
    "\n",
    "예시)\n",
    "\n",
    "```python\n",
    "if num < 25:\n",
    "    print('ok')\n",
    "else:\n",
    "    print('no')\n",
    "```\n"
   ]
  },
  {
   "cell_type": "code",
   "execution_count": null,
   "id": "9fb26c8c",
   "metadata": {},
   "outputs": [],
   "source": [
    "# 여기에 코드를 작성하세요."
   ]
  },
  {
   "cell_type": "markdown",
   "id": "62599ddb",
   "metadata": {},
   "source": [
    "## 문제 4\n",
    "\n",
    "for 문을 이용해서 1부터 50까지의 값을 출력하는 코드를 작성하시오.\n",
    "\n",
    "예시)\n",
    "\n",
    "```python\n",
    "for i in range(50, 100):\n",
    "    print(i)\n",
    "```\n"
   ]
  },
  {
   "cell_type": "code",
   "execution_count": null,
   "id": "2f6da191",
   "metadata": {},
   "outputs": [],
   "source": [
    "# 여기에 코드를 작성하세요."
   ]
  },
  {
   "cell_type": "markdown",
   "id": "c4f2fcb9",
   "metadata": {},
   "source": [
    "## 문제 5\n",
    "\n",
    "for 문을 이용해서 1부터 100까지의 짝수를 출력하는 코드를 작성하시오.\n",
    "\n",
    "예시)\n",
    "\n",
    "```python\n",
    "for i in range(1, 101):\n",
    "    if i % 5 == 0:\n",
    "        print(i)\n",
    "```\n"
   ]
  },
  {
   "cell_type": "code",
   "execution_count": null,
   "id": "a40deb6d",
   "metadata": {},
   "outputs": [],
   "source": [
    "# 여기에 코드를 작성하세요."
   ]
  },
  {
   "cell_type": "markdown",
   "id": "de31dba6",
   "metadata": {},
   "source": [
    "## 문제 6\n",
    "\n",
    "주어진 값 T를 가지고 1부터 T까지의 값을 출력하는 코드를 작성하시오.\n",
    "\n",
    "예시)\n",
    "\n",
    "```python\n",
    "T = 10\n",
    "for i in range(1, T**2):\n",
    "    print(i)\n",
    "```\n"
   ]
  },
  {
   "cell_type": "code",
   "execution_count": null,
   "id": "2f949d4c",
   "metadata": {},
   "outputs": [],
   "source": [
    "# 여기에 코드를 작성하세요."
   ]
  },
  {
   "cell_type": "markdown",
   "id": "ef2d1e8d",
   "metadata": {},
   "source": [
    "## 문제 7\n",
    "\n",
    "input() 함수를 사용하여 사용자로부터 숫자를 입력받아 그 숫자를 출력하시오.\n",
    "\n",
    "예시)\n",
    "\n",
    "```python\n",
    "num = input('숫자를 입력하시오: ')\n",
    "print(num)\n",
    "```\n"
   ]
  },
  {
   "cell_type": "code",
   "execution_count": null,
   "id": "b25043a3",
   "metadata": {},
   "outputs": [],
   "source": [
    "# 여기에 코드를 작성하세요."
   ]
  },
  {
   "cell_type": "markdown",
   "id": "04f33e7f",
   "metadata": {},
   "source": [
    "## 문제 8\n",
    "\n",
    "input() 함수를 사용하여 사용자로부터 숫자를 입력받아 그 숫자의 제곱을 출력하시오.\n",
    "\n",
    "예시)\n",
    "\n",
    "```python\n",
    "num = int(input('숫자를 입력하시오: '))\n",
    "print(num ** 2)\n",
    "```\n"
   ]
  },
  {
   "cell_type": "code",
   "execution_count": null,
   "id": "36c2f98d",
   "metadata": {},
   "outputs": [],
   "source": [
    "# 여기에 코드를 작성하세요."
   ]
  },
  {
   "cell_type": "markdown",
   "id": "b97abb80",
   "metadata": {},
   "source": [
    "## 문제 9\n",
    "\n",
    "사용자로부터 두 개의 숫자를 입력받아 그 두 숫자의 합을 출력하시오.\n",
    "\n",
    "예시)\n",
    "\n",
    "```python\n",
    "num1 = int(input('첫 번째 숫자를 입력하시오: '))\n",
    "num2 = int(input('두 번째 숫자를 입력하시오: '))\n",
    "print(num1 + num2)\n",
    "```\n"
   ]
  },
  {
   "cell_type": "code",
   "execution_count": null,
   "id": "820297b1",
   "metadata": {},
   "outputs": [],
   "source": [
    "# 여기에 코드를 작성하세요."
   ]
  },
  {
   "cell_type": "markdown",
   "id": "68587586",
   "metadata": {},
   "source": [
    "## 문제 10\n",
    "\n",
    "1부터 100까지의 숫자 중에서 3의 배수만 출력하시오.\n",
    "\n",
    "예시)\n",
    "\n",
    "```python\n",
    "for i in range(1, 1001):\n",
    "    if i % 100 == 0:\n",
    "        print(i)\n",
    "```\n"
   ]
  },
  {
   "cell_type": "code",
   "execution_count": null,
   "id": "f2847086",
   "metadata": {},
   "outputs": [],
   "source": [
    "# 여기에 코드를 작성하세요."
   ]
  },
  {
   "cell_type": "markdown",
   "id": "2ed8aa59",
   "metadata": {},
   "source": [
    "## 문제 11\n",
    "\n",
    "while 문을 사용하여 1부터 10까지의 숫자를 출력하시오.\n",
    "\n",
    "예시)\n",
    "\n",
    "```python\n",
    "i = 5\n",
    "while i <= 100:\n",
    "    print(i)\n",
    "    i += 1\n",
    "```\n"
   ]
  },
  {
   "cell_type": "code",
   "execution_count": null,
   "id": "1a2641b9",
   "metadata": {},
   "outputs": [],
   "source": [
    "# 여기에 코드를 작성하세요."
   ]
  },
  {
   "cell_type": "markdown",
   "id": "cd87b14b",
   "metadata": {},
   "source": [
    "## 문제 12\n",
    "\n",
    "사용자로부터 숫자를 입력받아 그 숫자만큼 'Hello'를 출력하시오.\n",
    "\n",
    "예시)\n",
    "\n",
    "```python\n",
    "num = int(input('숫자를 입력하시오: '))\n",
    "for i in range(10):\n",
    "    print('Hello')\n",
    "```\n"
   ]
  },
  {
   "cell_type": "code",
   "execution_count": null,
   "id": "d96cc2b5",
   "metadata": {},
   "outputs": [],
   "source": [
    "# 여기에 코드를 작성하세요."
   ]
  },
  {
   "cell_type": "markdown",
   "id": "2a46e088",
   "metadata": {},
   "source": [
    "## 문제 13(건너뛰시오)\n",
    "\n",
    "사용자로부터 숫자 N을 입력받아 1부터 N까지의 숫자 중 소수만 출력하시오.\n",
    "\n",
    "예시)\n",
    "\n",
    "```python\n",
    "N = int(input('숫자를 입력하시오: '))\n",
    "for i in range(2, N+1):\n",
    "    for j in range(2, i):\n",
    "        if i % j == 0:\n",
    "            break\n",
    "    else:\n",
    "        print(i)\n",
    "```\n"
   ]
  },
  {
   "cell_type": "code",
   "execution_count": null,
   "id": "a512a232",
   "metadata": {},
   "outputs": [],
   "source": [
    "# 여기에 코드를 작성하세요."
   ]
  },
  {
   "cell_type": "markdown",
   "id": "9c004ca9",
   "metadata": {},
   "source": [
    "## 문제 14(건너뛰시오)\n",
    "\n",
    "사용자로부터 숫자 N을 입력받아 N의 팩토리얼을 출력하시오.\n",
    "\n",
    "예시)\n",
    "\n",
    "```python\n",
    "N = int(input('숫자를 입력하시오: '))\n",
    "factorial = 1\n",
    "for i in range(1, N+1):\n",
    "    factorial *= i\n",
    "print(factorial)\n",
    "```\n"
   ]
  },
  {
   "cell_type": "code",
   "execution_count": null,
   "id": "e4bbd18d",
   "metadata": {},
   "outputs": [],
   "source": [
    "# 여기에 코드를 작성하세요."
   ]
  },
  {
   "cell_type": "markdown",
   "id": "931607e2",
   "metadata": {},
   "source": [
    "## 문제 15\n",
    "\n",
    "사용자로부터 두 숫자를 입력받아 두 숫자의 최대공약수를 출력하시오.\n",
    "\n",
    "예시)\n",
    "\n",
    "```python\n",
    "num1 = int(input('첫 번째 숫자를 입력하시오: '))\n",
    "num2 = int(input('두 번째 숫자를 입력하시오: '))\n",
    "while num2 != 0:\n",
    "    num1, num2 = num2, num1 % num2\n",
    "print(num1)\n",
    "```\n"
   ]
  },
  {
   "cell_type": "code",
   "execution_count": null,
   "id": "ff1c10a2",
   "metadata": {},
   "outputs": [],
   "source": [
    "# 여기에 코드를 작성하세요."
   ]
  },
  {
   "cell_type": "markdown",
   "id": "7ad02c45",
   "metadata": {},
   "source": [
    "## 문제 16\n",
    "\n",
    "리스트 [1, 2, 3, 4, 5]를 반복문을 사용하여 각 원소를 출력하시오.\n",
    "\n",
    "예시)\n",
    "\n",
    "```python\n",
    "list = [1, 2, 3, 4, 5]\n",
    "for i in list:\n",
    "    print(i)\n",
    "```\n"
   ]
  },
  {
   "cell_type": "code",
   "execution_count": null,
   "id": "d716b3a1",
   "metadata": {},
   "outputs": [],
   "source": [
    "# 여기에 코드를 작성하세요."
   ]
  },
  {
   "cell_type": "markdown",
   "id": "618b278c",
   "metadata": {},
   "source": [
    "## 문제 17\n",
    "\n",
    "리스트 [1, 2, 3, 4, 5]를 반복문을 사용하여 각 원소의 제곱을 출력하시오.\n",
    "\n",
    "예시)\n",
    "\n",
    "```python\n",
    "list = [1, 2]\n",
    "for i in list:\n",
    "    print(i ** 2)\n",
    "```\n"
   ]
  },
  {
   "cell_type": "code",
   "execution_count": null,
   "id": "3a52b951",
   "metadata": {},
   "outputs": [],
   "source": [
    "# 여기에 코드를 작성하세요."
   ]
  },
  {
   "cell_type": "markdown",
   "id": "cfaa1419",
   "metadata": {},
   "source": [
    "## 문제 18\n",
    "\n",
    "while 문을 사용하여 리스트 [1, 2, 3, 4, 5]의 원소를 한 줄에 하나씩 출력하시오.\n",
    "\n",
    "예시)\n",
    "\n",
    "```python\n",
    "list = [1, 2]\n",
    "i = 0\n",
    "while i < len(list):\n",
    "    print(list[i])\n",
    "    i += 1\n",
    "```\n"
   ]
  },
  {
   "cell_type": "code",
   "execution_count": null,
   "id": "1a5f8ce0",
   "metadata": {},
   "outputs": [],
   "source": [
    "# 여기에 코드를 작성하세요."
   ]
  },
  {
   "cell_type": "markdown",
   "id": "f4290758",
   "metadata": {},
   "source": [
    "## 문제 19\n",
    "\n",
    "사용자로부터 숫자 N을 입력받아 N이 짝수인지 홀수인지 출력하시오.\n",
    "\n",
    "예시)\n",
    "\n",
    "```python\n",
    "N = int(input('숫자를 입력하시오: '))\n",
    "if N % 2 == 0:\n",
    "    print('짝수')\n",
    "else:\n",
    "    print('홀수')\n",
    "```\n"
   ]
  },
  {
   "cell_type": "code",
   "execution_count": null,
   "id": "cfdbc45e",
   "metadata": {},
   "outputs": [],
   "source": [
    "# 여기에 코드를 작성하세요."
   ]
  },
  {
   "cell_type": "markdown",
   "id": "38fec54a",
   "metadata": {},
   "source": [
    "## 문제 20\n",
    "\n",
    "사용자로부터 숫자 N을 입력받아 N이 양수인지, 음수인지, 0인지 출력하시오.\n",
    "\n",
    "예시)\n",
    "\n",
    "```python\n",
    "N = int(input('숫자를 입력하시오: '))\n",
    "if N > 0:\n",
    "    print('양수')\n",
    "elif N < 0:\n",
    "    print('음수')\n",
    "else:\n",
    "    print('0')\n",
    "```\n"
   ]
  },
  {
   "cell_type": "code",
   "execution_count": null,
   "id": "fd5b1ac4",
   "metadata": {},
   "outputs": [],
   "source": [
    "# 여기에 코드를 작성하세요."
   ]
  }
 ],
 "metadata": {
  "language_info": {
   "name": "python"
  }
 },
 "nbformat": 4,
 "nbformat_minor": 5
}
