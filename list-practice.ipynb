{
 "cells": [
  {
   "cell_type": "markdown",
   "id": "be23b6eb",
   "metadata": {},
   "source": [
    "## 문제 1\n",
    "\n",
    "리스트 [1, 2, 3, 4, 5]의 첫 세 개의 원소를 출력하시오.\n"
   ]
  },
  {
   "cell_type": "code",
   "execution_count": null,
   "id": "2a995b36",
   "metadata": {},
   "outputs": [],
   "source": [
    "# 여기에 코드를 작성하세요."
   ]
  },
  {
   "cell_type": "markdown",
   "id": "d09b2b52",
   "metadata": {},
   "source": [
    "## 문제 2\n",
    "\n",
    "리스트 [1, 2, 3, 4, 5]의 마지막 두 개의 원소를 출력하시오.\n"
   ]
  },
  {
   "cell_type": "code",
   "execution_count": null,
   "id": "97f8a5d6",
   "metadata": {},
   "outputs": [],
   "source": [
    "# 여기에 코드를 작성하세요."
   ]
  },
  {
   "cell_type": "markdown",
   "id": "91d24039",
   "metadata": {},
   "source": [
    "## 문제 3\n",
    "\n",
    "리스트 [1, 2, 3, 4, 5]의 원소들을 역순으로 출력하시오.\n"
   ]
  },
  {
   "cell_type": "code",
   "execution_count": null,
   "id": "dc305afc",
   "metadata": {},
   "outputs": [],
   "source": [
    "# 여기에 코드를 작성하세요."
   ]
  },
  {
   "cell_type": "markdown",
   "id": "a3430cf1",
   "metadata": {},
   "source": [
    "## 문제 4\n",
    "\n",
    "리스트 [1, 2, 3, 4, 5]와 [6, 7, 8, 9, 10]을 합쳐 출력하시오.\n"
   ]
  },
  {
   "cell_type": "code",
   "execution_count": null,
   "id": "31b8a986",
   "metadata": {},
   "outputs": [],
   "source": [
    "# 여기에 코드를 작성하세요."
   ]
  },
  {
   "cell_type": "markdown",
   "id": "61ddd973",
   "metadata": {},
   "source": [
    "## 문제 5\n",
    "\n",
    "리스트 ['Hello']를 5번 반복해 출력하시오.\n"
   ]
  },
  {
   "cell_type": "code",
   "execution_count": null,
   "id": "e00cada0",
   "metadata": {},
   "outputs": [],
   "source": [
    "# 여기에 코드를 작성하세요."
   ]
  },
  {
   "cell_type": "markdown",
   "id": "9a5e0bb3",
   "metadata": {},
   "source": [
    "## 문제 6\n",
    "\n",
    "리스트 [1, 2, 3, 4, 5]의 길이를 출력하시오.\n"
   ]
  },
  {
   "cell_type": "code",
   "execution_count": null,
   "id": "5c2e7a4c",
   "metadata": {},
   "outputs": [],
   "source": [
    "# 여기에 코드를 작성하세요."
   ]
  },
  {
   "cell_type": "markdown",
   "id": "cddc735c",
   "metadata": {},
   "source": [
    "## 문제 7\n",
    "\n",
    "리스트 [1, 2, 3, 4, 5]에서 3이라는 원소의 인덱스를 출력하시오.\n"
   ]
  },
  {
   "cell_type": "code",
   "execution_count": null,
   "id": "df49b858",
   "metadata": {},
   "outputs": [],
   "source": [
    "# 여기에 코드를 작성하세요."
   ]
  },
  {
   "cell_type": "markdown",
   "id": "2b6d233a",
   "metadata": {},
   "source": [
    "## 문제 8\n",
    "\n",
    "리스트 [1, 2, 3, 4, 5]에 6라는 원소를 추가하시오.\n"
   ]
  },
  {
   "cell_type": "code",
   "execution_count": null,
   "id": "88616184",
   "metadata": {},
   "outputs": [],
   "source": [
    "# 여기에 코드를 작성하세요."
   ]
  },
  {
   "cell_type": "markdown",
   "id": "a38ac59e",
   "metadata": {},
   "source": [
    "## 문제 9\n",
    "\n",
    "리스트 [1, 2, 3, 4, 5]에서 1이라는 원소를 제거하시오.\n"
   ]
  },
  {
   "cell_type": "code",
   "execution_count": null,
   "id": "5b9c7dfd",
   "metadata": {},
   "outputs": [],
   "source": [
    "# 여기에 코드를 작성하세요."
   ]
  },
  {
   "cell_type": "markdown",
   "id": "571072cf",
   "metadata": {},
   "source": [
    "## 문제 10\n",
    "\n",
    "리스트 [1, 2, 3, 4, 5]를 정렬하지 않은 상태로 역순으로 출력하시오.\n"
   ]
  },
  {
   "cell_type": "code",
   "execution_count": null,
   "id": "717d1c87",
   "metadata": {},
   "outputs": [],
   "source": [
    "# 여기에 코드를 작성하세요."
   ]
  }
 ],
 "metadata": {
  "language_info": {
   "name": "python"
  }
 },
 "nbformat": 4,
 "nbformat_minor": 5
}
