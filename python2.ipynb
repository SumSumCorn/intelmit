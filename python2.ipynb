{
 "cells": [
  {
   "cell_type": "markdown",
   "id": "be33a9f3",
   "metadata": {},
   "source": [
    "## 문제 1\n",
    "사용자로부터 두 개의 숫자를 입력받아 그 두 숫자의 차를 출력하시오."
   ]
  },
  {
   "cell_type": "code",
   "execution_count": null,
   "id": "061e92b6",
   "metadata": {},
   "outputs": [],
   "source": [
    "# 여기에 코드를 작성하세요."
   ]
  },
  {
   "cell_type": "markdown",
   "id": "41e761d2",
   "metadata": {},
   "source": [
    "## 문제 2\n",
    "입력받은 숫자가 0인지 확인하는 코드를 작성하시오."
   ]
  },
  {
   "cell_type": "code",
   "execution_count": null,
   "id": "c582f248",
   "metadata": {},
   "outputs": [],
   "source": [
    "# 여기에 코드를 작성하세요."
   ]
  },
  {
   "cell_type": "markdown",
   "id": "3ba31ac8",
   "metadata": {},
   "source": [
    "## 문제 3\n",
    "입력받은 숫자가 양수인지, 음수인지 확인하는 코드를 작성하시오."
   ]
  },
  {
   "cell_type": "code",
   "execution_count": null,
   "id": "cc014fb0",
   "metadata": {},
   "outputs": [],
   "source": [
    "# 여기에 코드를 작성하세요."
   ]
  },
  {
   "cell_type": "markdown",
   "id": "104af72f",
   "metadata": {},
   "source": [
    "## 문제 4\n",
    "입력받은 숫자의 제곱근을 출력하시오."
   ]
  },
  {
   "cell_type": "code",
   "execution_count": null,
   "id": "35032f11",
   "metadata": {},
   "outputs": [],
   "source": [
    "# 여기에 코드를 작성하세요."
   ]
  },
  {
   "cell_type": "markdown",
   "id": "d23fb96d",
   "metadata": {},
   "source": [
    "## 문제 5\n",
    "for 문을 이용해서 1부터 100까지의 홀수를 출력하는 코드를 작성하시오."
   ]
  },
  {
   "cell_type": "code",
   "execution_count": null,
   "id": "2f544571",
   "metadata": {},
   "outputs": [],
   "source": [
    "# 여기에 코드를 작성하세요."
   ]
  },
  {
   "cell_type": "markdown",
   "id": "be32cb54",
   "metadata": {},
   "source": [
    "## 문제 6\n",
    "while 문을 이용해서 1부터 10까지의 숫자 중 짝수만 출력하는 코드를 작성하시오."
   ]
  },
  {
   "cell_type": "code",
   "execution_count": null,
   "id": "297737ff",
   "metadata": {},
   "outputs": [],
   "source": [
    "# 여기에 코드를 작성하세요."
   ]
  },
  {
   "cell_type": "markdown",
   "id": "2089b865",
   "metadata": {},
   "source": [
    "## 문제 7\n",
    "사용자로부터 입력받은 숫자가 10보다 큰지 확인하는 코드를 작성하시오."
   ]
  },
  {
   "cell_type": "code",
   "execution_count": null,
   "id": "d2434179",
   "metadata": {},
   "outputs": [],
   "source": [
    "# 여기에 코드를 작성하세요."
   ]
  },
  {
   "cell_type": "markdown",
   "id": "6dc379bf",
   "metadata": {},
   "source": [
    "## 문제 8\n",
    "for 문을 이용해서 1부터 100까지의 숫자 중 5의 배수만 출력하시오."
   ]
  },
  {
   "cell_type": "code",
   "execution_count": null,
   "id": "74414dd4",
   "metadata": {},
   "outputs": [],
   "source": [
    "# 여기에 코드를 작성하세요."
   ]
  },
  {
   "cell_type": "markdown",
   "id": "eb5b4472",
   "metadata": {},
   "source": [
    "## 문제 9\n",
    "사용자로부터 입력받은 숫자를 3으로 나눈 나머지를 출력하시오."
   ]
  },
  {
   "cell_type": "code",
   "execution_count": null,
   "id": "2bb8b7e5",
   "metadata": {},
   "outputs": [],
   "source": [
    "# 여기에 코드를 작성하세요."
   ]
  },
  {
   "cell_type": "markdown",
   "id": "5c3ad30d",
   "metadata": {},
   "source": [
    "## 문제 10\n",
    "사용자로부터 입력받은 숫자가 7의 배수인지 확인하는 코드를 작성하시오."
   ]
  },
  {
   "cell_type": "code",
   "execution_count": null,
   "id": "d02196e5",
   "metadata": {},
   "outputs": [],
   "source": [
    "# 여기에 코드를 작성하세요."
   ]
  },
  {
   "cell_type": "markdown",
   "id": "653be2f4",
   "metadata": {},
   "source": [
    "## 문제 11\n",
    "사용자로부터 입력받은 숫자의 절대값을 출력하시오."
   ]
  },
  {
   "cell_type": "code",
   "execution_count": null,
   "id": "15f38c70",
   "metadata": {},
   "outputs": [],
   "source": [
    "# 여기에 코드를 작성하세요."
   ]
  },
  {
   "cell_type": "markdown",
   "id": "d1bd599e",
   "metadata": {},
   "source": [
    "## 문제 12\n",
    "사용자로부터 입력받은 숫자가 짝수인지 확인하는 코드를 작성하시오."
   ]
  },
  {
   "cell_type": "code",
   "execution_count": null,
   "id": "5f2a4c6c",
   "metadata": {},
   "outputs": [],
   "source": [
    "# 여기에 코드를 작성하세요."
   ]
  },
  {
   "cell_type": "markdown",
   "id": "806d8e1e",
   "metadata": {},
   "source": [
    "## 문제 13\n",
    "사용자로부터 입력받은 두 개의 숫자의 평균을 출력하시오."
   ]
  },
  {
   "cell_type": "code",
   "execution_count": null,
   "id": "8923e0a6",
   "metadata": {},
   "outputs": [],
   "source": [
    "# 여기에 코드를 작성하세요."
   ]
  },
  {
   "cell_type": "markdown",
   "id": "f8ed556f",
   "metadata": {},
   "source": [
    "## 문제 14\n",
    "사용자로부터 입력받은 숫자가 홀수인지 확인하는 코드를 작성하시오."
   ]
  },
  {
   "cell_type": "code",
   "execution_count": null,
   "id": "ce568ea9",
   "metadata": {},
   "outputs": [],
   "source": [
    "# 여기에 코드를 작성하세요."
   ]
  },
  {
   "cell_type": "markdown",
   "id": "6811cc84",
   "metadata": {},
   "source": [
    "## 문제 15\n",
    "사용자로부터 입력받은 숫자가 100보다 큰지 확인하는 코드를 작성하시오."
   ]
  },
  {
   "cell_type": "code",
   "execution_count": null,
   "id": "eeaa9536",
   "metadata": {},
   "outputs": [],
   "source": [
    "# 여기에 코드를 작성하세요."
   ]
  },
  {
   "cell_type": "markdown",
   "id": "6ab88db3",
   "metadata": {},
   "source": [
    "## 문제 16\n",
    "사용자로부터 입력받은 숫자가 50보다 작은지 확인하는 코드를 작성하시오."
   ]
  },
  {
   "cell_type": "code",
   "execution_count": null,
   "id": "eb349ae3",
   "metadata": {},
   "outputs": [],
   "source": [
    "# 여기에 코드를 작성하세요."
   ]
  },
  {
   "cell_type": "markdown",
   "id": "07ea7eb5",
   "metadata": {},
   "source": [
    "## 문제 17\n",
    "사용자로부터 입력받은 숫자가 0과 100 사이인지 확인하는 코드를 작성하시오."
   ]
  },
  {
   "cell_type": "code",
   "execution_count": null,
   "id": "4e3f1a67",
   "metadata": {},
   "outputs": [],
   "source": [
    "# 여기에 코드를 작성하세요."
   ]
  },
  {
   "cell_type": "markdown",
   "id": "de4d7141",
   "metadata": {},
   "source": [
    "## 문제 18\n",
    "사용자로부터 입력받은 숫자가 소수인지 확인하는 코드를 작성하시오."
   ]
  },
  {
   "cell_type": "code",
   "execution_count": null,
   "id": "aebaa2e6",
   "metadata": {},
   "outputs": [],
   "source": [
    "# 여기에 코드를 작성하세요."
   ]
  },
  {
   "cell_type": "markdown",
   "id": "aa525044",
   "metadata": {},
   "source": [
    "## 문제 19\n",
    "사용자로부터 입력받은 숫자의 2의 배수인지 확인하는 코드를 작성하시오."
   ]
  },
  {
   "cell_type": "code",
   "execution_count": null,
   "id": "b1ee29d6",
   "metadata": {},
   "outputs": [],
   "source": [
    "# 여기에 코드를 작성하세요."
   ]
  },
  {
   "cell_type": "markdown",
   "id": "8bffcaf2",
   "metadata": {},
   "source": [
    "## 문제 20\n",
    "사용자로부터 입력받은 숫자가 음수인지 확인하는 코드를 작성하시오."
   ]
  },
  {
   "cell_type": "code",
   "execution_count": null,
   "id": "4bc337ae",
   "metadata": {},
   "outputs": [],
   "source": [
    "# 여기에 코드를 작성하세요."
   ]
  }
 ],
 "metadata": {},
 "nbformat": 4,
 "nbformat_minor": 5
}
