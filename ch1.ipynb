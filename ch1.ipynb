{
 "cells": [
  {
   "cell_type": "markdown",
   "id": "0d073f53",
   "metadata": {},
   "source": [
    "## 변수와 이름 짓기 (int, float, 문자열, 논리형)"
   ]
  },
  {
   "cell_type": "markdown",
   "id": "6916da36",
   "metadata": {},
   "source": [
    "1. `myAge`라는 이름의 변수를 만들어 볼까요? 당신의 나이를 정수로 저장해보세요. 그리고 `myAge` 변수의 값을 출력해보세요."
   ]
  },
  {
   "cell_type": "code",
   "execution_count": null,
   "id": "abd875ea",
   "metadata": {},
   "outputs": [],
   "source": []
  },
  {
   "cell_type": "markdown",
   "id": "99865435",
   "metadata": {},
   "source": [
    "2. `pi`라는 이름의 변수를 만들어 보아요. 원주율 3.14를 저장해보세요. 그리고 `pi` 변수의 값을 출력해보세요."
   ]
  },
  {
   "cell_type": "code",
   "execution_count": null,
   "id": "388c7201",
   "metadata": {},
   "outputs": [],
   "source": []
  },
  {
   "cell_type": "markdown",
   "id": "4eb7c25e",
   "metadata": {},
   "source": [
    "3. `myName`이라는 이름의 변수를 만들어 보아요. 당신의 이름을 문자열로 저장해보세요. 그리고 `myName` 변수의 값을 출력해보세요."
   ]
  },
  {
   "cell_type": "code",
   "execution_count": null,
   "id": "2bfd7486",
   "metadata": {},
   "outputs": [],
   "source": []
  },
  {
   "cell_type": "markdown",
   "id": "9f9931cc",
   "metadata": {},
   "source": [
    "4. `isStudent`이라는 이름의 변수를 만들고, 당신이 학생인지 여부를 논리형으로 저장해보아요. 참고) 논리형은 False, True로 작성할 수 있습니다."
   ]
  },
  {
   "cell_type": "code",
   "execution_count": null,
   "id": "ac0750a6",
   "metadata": {},
   "outputs": [],
   "source": []
  },
  {
   "cell_type": "markdown",
   "id": "78d8e621",
   "metadata": {},
   "source": [
    "5. `myHeight`이라는 이름의 변수를 만들어 보아요. 당신의 키를 실수로 저장해보세요. 그리고 `myHeight` 변수의 값을 출력해보세요."
   ]
  },
  {
   "cell_type": "code",
   "execution_count": null,
   "id": "7b4e2c78",
   "metadata": {},
   "outputs": [],
   "source": []
  },
  {
   "cell_type": "markdown",
   "id": "9fcdc5d9",
   "metadata": {},
   "source": [
    "## 대입 연산자 조합"
   ]
  },
  {
   "cell_type": "markdown",
   "id": "96c2a144",
   "metadata": {},
   "source": [
    "6. `x`라는 이름의 변수를 만들어 보아요. 초기값으로 10을 대입해보세요. 그리고 `x`에 5를 더해보고 결과를 출력해보세요."
   ]
  },
  {
   "cell_type": "code",
   "execution_count": null,
   "id": "d9fbf1dd",
   "metadata": {},
   "outputs": [],
   "source": []
  },
  {
   "cell_type": "markdown",
   "id": "95db73f5",
   "metadata": {},
   "source": [
    "7. `y`라는 이름의 변수를 만들어 보아요. 초기값으로 20을 대입해보세요. 그리고 `y`를 3으로 나눠보고 결과를 출력해보세요."
   ]
  },
  {
   "cell_type": "code",
   "execution_count": null,
   "id": "afa18e8e",
   "metadata": {},
   "outputs": [],
   "source": []
  },
  {
   "cell_type": "markdown",
   "id": "401e973e",
   "metadata": {},
   "source": [
    "8. `z`라는 이름의 변수를 만들어 보아요. 초기값으로 30을 대입해보세요. 그리고 `z`에 4를 곱해보고 결과를 출력해보세요."
   ]
  },
  {
   "cell_type": "code",
   "execution_count": null,
   "id": "abe8f993",
   "metadata": {},
   "outputs": [],
   "source": []
  },
  {
   "cell_type": "markdown",
   "id": "ebecb8ef",
   "metadata": {},
   "source": [
    "9. `a`라는 이름의 변수를 만들어 보아요. 초기값으로 40을 대입해보세요. 그리고 `a`에서 15를 빼보고 결과를 출력해보세요."
   ]
  },
  {
   "cell_type": "code",
   "execution_count": null,
   "id": "2cc35773",
   "metadata": {},
   "outputs": [],
   "source": []
  },
  {
   "cell_type": "markdown",
   "id": "d08f0deb",
   "metadata": {},
   "source": [
    "10. `b`라는 이름의 변수를 만들어 보아요. 초기값으로 2를 대입해보세요. 그리고 `b`의 값을 3으로 제곱해보고 결과를 출력해보세요."
   ]
  },
  {
   "cell_type": "code",
   "execution_count": null,
   "id": "39d9074e",
   "metadata": {},
   "outputs": [],
   "source": []
  },
  {
   "cell_type": "markdown",
   "id": "af4c28f6",
   "metadata": {},
   "source": [
    "## 산술 연산자 (**, //, %)"
   ]
  },
  {
   "cell_type": "markdown",
   "id": "d94d7087",
   "metadata": {},
   "source": [
    "11. 10의 제곱을 계산해보아요. 그리고 결과를 출력해보세요."
   ]
  },
  {
   "cell_type": "code",
   "execution_count": null,
   "id": "af580eda",
   "metadata": {},
   "outputs": [],
   "source": []
  },
  {
   "cell_type": "markdown",
   "id": "ce9d2f5c",
   "metadata": {},
   "source": [
    "12. 35를 6으로 나눈 몫을 계산해보아요. 그리고 결과를 출력해보세요."
   ]
  },
  {
   "cell_type": "code",
   "execution_count": null,
   "id": "63a398f9",
   "metadata": {},
   "outputs": [],
   "source": []
  },
  {
   "cell_type": "markdown",
   "id": "c6d7952a",
   "metadata": {},
   "source": [
    "13. 35를 6으로 나눈 나머지를 계산해보아요. 그리고 결과를 출력해보세요."
   ]
  },
  {
   "cell_type": "code",
   "execution_count": null,
   "id": "29a5080e",
   "metadata": {},
   "outputs": [],
   "source": []
  },
  {
   "cell_type": "markdown",
   "id": "b41a0710",
   "metadata": {},
   "source": [
    "14. 8의 3제곱을 계산해보아요. 그리고 결과를 출력해보세요."
   ]
  },
  {
   "cell_type": "code",
   "execution_count": null,
   "id": "01cbd28c",
   "metadata": {},
   "outputs": [],
   "source": []
  },
  {
   "cell_type": "markdown",
   "id": "97cf6ab4",
   "metadata": {},
   "source": [
    "15. 49를 7으로 나눈 몫을 계산해보아요. 그리고 결과를 출력해보세요."
   ]
  },
  {
   "cell_type": "code",
   "execution_count": null,
   "id": "cb6cf660",
   "metadata": {},
   "outputs": [],
   "source": []
  },
  {
   "cell_type": "markdown",
   "id": "3bd13f8a",
   "metadata": {},
   "source": [
    "## 변수와 이름 짓기 (int, float, 문자열, 논리형)"
   ]
  },
  {
   "cell_type": "markdown",
   "id": "8025a311",
   "metadata": {},
   "source": [
    "1번 문제 해답."
   ]
  },
  {
   "cell_type": "markdown",
   "id": "125490e0",
   "metadata": {},
   "source": [
    "```python\n",
    "myAge = 15\n",
    "print(myAge)\n",
    "```"
   ]
  },
  {
   "cell_type": "markdown",
   "id": "89638759",
   "metadata": {},
   "source": [
    "2번문제 해답."
   ]
  },
  {
   "cell_type": "markdown",
   "id": "1efa0731",
   "metadata": {},
   "source": [
    "```python\n",
    "pi = 3.14\n",
    "print(pi)\n",
    "```"
   ]
  },
  {
   "cell_type": "markdown",
   "id": "bb3e6238",
   "metadata": {},
   "source": [
    "## 대입 연산자 조합"
   ]
  },
  {
   "cell_type": "markdown",
   "id": "d78027c1",
   "metadata": {},
   "source": [
    "6번 문제 해답."
   ]
  },
  {
   "cell_type": "markdown",
   "id": "4ccc4fbd",
   "metadata": {},
   "source": [
    "```python\n",
    "x = 10\n",
    "x += 5\n",
    "print(x)\n",
    "```"
   ]
  },
  {
   "cell_type": "markdown",
   "id": "16d3433b",
   "metadata": {},
   "source": [
    "7번 문제 해답."
   ]
  },
  {
   "cell_type": "markdown",
   "id": "c63e4849",
   "metadata": {},
   "source": [
    "```python\n",
    "y = 20\n",
    "y /= 3\n",
    "print(y)\n",
    "```"
   ]
  },
  {
   "cell_type": "markdown",
   "id": "4481833a",
   "metadata": {},
   "source": [
    "## 산술 연산자 (**, //, %)"
   ]
  },
  {
   "cell_type": "markdown",
   "id": "40351c13",
   "metadata": {},
   "source": [
    "11번 문제 해답."
   ]
  },
  {
   "cell_type": "markdown",
   "id": "7410970a",
   "metadata": {},
   "source": [
    "```python\n",
    "result = 10 ** 2\n",
    "print(result)\n",
    "```"
   ]
  },
  {
   "cell_type": "markdown",
   "id": "2fbea178",
   "metadata": {},
   "source": [
    "12번 문제 해답."
   ]
  },
  {
   "cell_type": "markdown",
   "id": "a0e8aa4e",
   "metadata": {},
   "source": [
    "```python\n",
    "result = 35 // 6\n",
    "print(result)\n",
    "```"
   ]
  }
 ],
 "metadata": {},
 "nbformat": 4,
 "nbformat_minor": 5
}
